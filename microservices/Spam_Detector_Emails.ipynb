{
  "cells": [
    {
      "cell_type": "markdown",
      "metadata": {
        "id": "WBMLoJnCG32P"
      },
      "source": [
        "## Setup Imports"
      ]
    },
    {
      "cell_type": "code",
      "execution_count": 1,
      "metadata": {},
      "outputs": [
        {
          "name": "stdout",
          "output_type": "stream",
          "text": [
            "Requirement already satisfied: tensorflow-metal in /Users/giovannirivera/Developer/GitHub/Toro-Space/.conda/lib/python3.8/site-packages (1.0.1)\n",
            "Requirement already satisfied: wheel~=0.35 in /Users/giovannirivera/Developer/GitHub/Toro-Space/.conda/lib/python3.8/site-packages (from tensorflow-metal) (0.43.0)\n",
            "Requirement already satisfied: six>=1.15.0 in /Users/giovannirivera/Developer/GitHub/Toro-Space/.conda/lib/python3.8/site-packages (from tensorflow-metal) (1.16.0)\n",
            "Note: you may need to restart the kernel to use updated packages.\n",
            "Requirement already satisfied: tensorflow-macos in /Users/giovannirivera/Developer/GitHub/Toro-Space/.conda/lib/python3.8/site-packages (2.13.0)\n",
            "Requirement already satisfied: absl-py>=1.0.0 in /Users/giovannirivera/Developer/GitHub/Toro-Space/.conda/lib/python3.8/site-packages (from tensorflow-macos) (2.1.0)\n",
            "Requirement already satisfied: astunparse>=1.6.0 in /Users/giovannirivera/Developer/GitHub/Toro-Space/.conda/lib/python3.8/site-packages (from tensorflow-macos) (1.6.3)\n",
            "Requirement already satisfied: flatbuffers>=23.1.21 in /Users/giovannirivera/Developer/GitHub/Toro-Space/.conda/lib/python3.8/site-packages (from tensorflow-macos) (24.3.25)\n",
            "Requirement already satisfied: gast<=0.4.0,>=0.2.1 in /Users/giovannirivera/Developer/GitHub/Toro-Space/.conda/lib/python3.8/site-packages (from tensorflow-macos) (0.4.0)\n",
            "Requirement already satisfied: google-pasta>=0.1.1 in /Users/giovannirivera/Developer/GitHub/Toro-Space/.conda/lib/python3.8/site-packages (from tensorflow-macos) (0.2.0)\n",
            "Requirement already satisfied: h5py>=2.9.0 in /Users/giovannirivera/Developer/GitHub/Toro-Space/.conda/lib/python3.8/site-packages (from tensorflow-macos) (3.11.0)\n",
            "Requirement already satisfied: libclang>=13.0.0 in /Users/giovannirivera/Developer/GitHub/Toro-Space/.conda/lib/python3.8/site-packages (from tensorflow-macos) (18.1.1)\n",
            "Requirement already satisfied: numpy<=1.24.3,>=1.22 in /Users/giovannirivera/Developer/GitHub/Toro-Space/.conda/lib/python3.8/site-packages (from tensorflow-macos) (1.24.3)\n",
            "Requirement already satisfied: opt-einsum>=2.3.2 in /Users/giovannirivera/Developer/GitHub/Toro-Space/.conda/lib/python3.8/site-packages (from tensorflow-macos) (3.3.0)\n",
            "Requirement already satisfied: packaging in /Users/giovannirivera/Developer/GitHub/Toro-Space/.conda/lib/python3.8/site-packages (from tensorflow-macos) (24.0)\n",
            "Requirement already satisfied: protobuf!=4.21.0,!=4.21.1,!=4.21.2,!=4.21.3,!=4.21.4,!=4.21.5,<5.0.0dev,>=3.20.3 in /Users/giovannirivera/Developer/GitHub/Toro-Space/.conda/lib/python3.8/site-packages (from tensorflow-macos) (4.25.3)\n",
            "Requirement already satisfied: setuptools in /Users/giovannirivera/Developer/GitHub/Toro-Space/.conda/lib/python3.8/site-packages (from tensorflow-macos) (69.5.1)\n",
            "Requirement already satisfied: six>=1.12.0 in /Users/giovannirivera/Developer/GitHub/Toro-Space/.conda/lib/python3.8/site-packages (from tensorflow-macos) (1.16.0)\n",
            "Requirement already satisfied: termcolor>=1.1.0 in /Users/giovannirivera/Developer/GitHub/Toro-Space/.conda/lib/python3.8/site-packages (from tensorflow-macos) (2.4.0)\n",
            "Requirement already satisfied: typing-extensions<4.6.0,>=3.6.6 in /Users/giovannirivera/Developer/GitHub/Toro-Space/.conda/lib/python3.8/site-packages (from tensorflow-macos) (4.5.0)\n",
            "Requirement already satisfied: wrapt>=1.11.0 in /Users/giovannirivera/Developer/GitHub/Toro-Space/.conda/lib/python3.8/site-packages (from tensorflow-macos) (1.16.0)\n",
            "Requirement already satisfied: grpcio<2.0,>=1.24.3 in /Users/giovannirivera/Developer/GitHub/Toro-Space/.conda/lib/python3.8/site-packages (from tensorflow-macos) (1.63.0)\n",
            "Requirement already satisfied: tensorboard<2.14,>=2.13 in /Users/giovannirivera/Developer/GitHub/Toro-Space/.conda/lib/python3.8/site-packages (from tensorflow-macos) (2.13.0)\n",
            "Requirement already satisfied: tensorflow-estimator<2.14,>=2.13.0 in /Users/giovannirivera/Developer/GitHub/Toro-Space/.conda/lib/python3.8/site-packages (from tensorflow-macos) (2.13.0)\n",
            "Requirement already satisfied: keras<2.14,>=2.13.1 in /Users/giovannirivera/Developer/GitHub/Toro-Space/.conda/lib/python3.8/site-packages (from tensorflow-macos) (2.13.1)\n",
            "Requirement already satisfied: wheel<1.0,>=0.23.0 in /Users/giovannirivera/Developer/GitHub/Toro-Space/.conda/lib/python3.8/site-packages (from astunparse>=1.6.0->tensorflow-macos) (0.43.0)\n",
            "Requirement already satisfied: google-auth<3,>=1.6.3 in /Users/giovannirivera/Developer/GitHub/Toro-Space/.conda/lib/python3.8/site-packages (from tensorboard<2.14,>=2.13->tensorflow-macos) (2.29.0)\n",
            "Requirement already satisfied: google-auth-oauthlib<1.1,>=0.5 in /Users/giovannirivera/Developer/GitHub/Toro-Space/.conda/lib/python3.8/site-packages (from tensorboard<2.14,>=2.13->tensorflow-macos) (1.0.0)\n",
            "Requirement already satisfied: markdown>=2.6.8 in /Users/giovannirivera/Developer/GitHub/Toro-Space/.conda/lib/python3.8/site-packages (from tensorboard<2.14,>=2.13->tensorflow-macos) (3.6)\n",
            "Requirement already satisfied: requests<3,>=2.21.0 in /Users/giovannirivera/Developer/GitHub/Toro-Space/.conda/lib/python3.8/site-packages (from tensorboard<2.14,>=2.13->tensorflow-macos) (2.31.0)\n",
            "Requirement already satisfied: tensorboard-data-server<0.8.0,>=0.7.0 in /Users/giovannirivera/Developer/GitHub/Toro-Space/.conda/lib/python3.8/site-packages (from tensorboard<2.14,>=2.13->tensorflow-macos) (0.7.2)\n",
            "Requirement already satisfied: werkzeug>=1.0.1 in /Users/giovannirivera/Developer/GitHub/Toro-Space/.conda/lib/python3.8/site-packages (from tensorboard<2.14,>=2.13->tensorflow-macos) (3.0.3)\n",
            "Requirement already satisfied: cachetools<6.0,>=2.0.0 in /Users/giovannirivera/Developer/GitHub/Toro-Space/.conda/lib/python3.8/site-packages (from google-auth<3,>=1.6.3->tensorboard<2.14,>=2.13->tensorflow-macos) (5.3.3)\n",
            "Requirement already satisfied: pyasn1-modules>=0.2.1 in /Users/giovannirivera/Developer/GitHub/Toro-Space/.conda/lib/python3.8/site-packages (from google-auth<3,>=1.6.3->tensorboard<2.14,>=2.13->tensorflow-macos) (0.4.0)\n",
            "Requirement already satisfied: rsa<5,>=3.1.4 in /Users/giovannirivera/Developer/GitHub/Toro-Space/.conda/lib/python3.8/site-packages (from google-auth<3,>=1.6.3->tensorboard<2.14,>=2.13->tensorflow-macos) (4.9)\n",
            "Requirement already satisfied: requests-oauthlib>=0.7.0 in /Users/giovannirivera/Developer/GitHub/Toro-Space/.conda/lib/python3.8/site-packages (from google-auth-oauthlib<1.1,>=0.5->tensorboard<2.14,>=2.13->tensorflow-macos) (2.0.0)\n",
            "Requirement already satisfied: importlib-metadata>=4.4 in /Users/giovannirivera/Developer/GitHub/Toro-Space/.conda/lib/python3.8/site-packages (from markdown>=2.6.8->tensorboard<2.14,>=2.13->tensorflow-macos) (7.1.0)\n",
            "Requirement already satisfied: charset-normalizer<4,>=2 in /Users/giovannirivera/Developer/GitHub/Toro-Space/.conda/lib/python3.8/site-packages (from requests<3,>=2.21.0->tensorboard<2.14,>=2.13->tensorflow-macos) (3.3.2)\n",
            "Requirement already satisfied: idna<4,>=2.5 in /Users/giovannirivera/Developer/GitHub/Toro-Space/.conda/lib/python3.8/site-packages (from requests<3,>=2.21.0->tensorboard<2.14,>=2.13->tensorflow-macos) (3.7)\n",
            "Requirement already satisfied: urllib3<3,>=1.21.1 in /Users/giovannirivera/Developer/GitHub/Toro-Space/.conda/lib/python3.8/site-packages (from requests<3,>=2.21.0->tensorboard<2.14,>=2.13->tensorflow-macos) (2.2.1)\n",
            "Requirement already satisfied: certifi>=2017.4.17 in /Users/giovannirivera/Developer/GitHub/Toro-Space/.conda/lib/python3.8/site-packages (from requests<3,>=2.21.0->tensorboard<2.14,>=2.13->tensorflow-macos) (2024.2.2)\n",
            "Requirement already satisfied: MarkupSafe>=2.1.1 in /Users/giovannirivera/Developer/GitHub/Toro-Space/.conda/lib/python3.8/site-packages (from werkzeug>=1.0.1->tensorboard<2.14,>=2.13->tensorflow-macos) (2.1.5)\n",
            "Requirement already satisfied: zipp>=0.5 in /Users/giovannirivera/Developer/GitHub/Toro-Space/.conda/lib/python3.8/site-packages (from importlib-metadata>=4.4->markdown>=2.6.8->tensorboard<2.14,>=2.13->tensorflow-macos) (3.17.0)\n",
            "Requirement already satisfied: pyasn1<0.7.0,>=0.4.6 in /Users/giovannirivera/Developer/GitHub/Toro-Space/.conda/lib/python3.8/site-packages (from pyasn1-modules>=0.2.1->google-auth<3,>=1.6.3->tensorboard<2.14,>=2.13->tensorflow-macos) (0.6.0)\n",
            "Requirement already satisfied: oauthlib>=3.0.0 in /Users/giovannirivera/Developer/GitHub/Toro-Space/.conda/lib/python3.8/site-packages (from requests-oauthlib>=0.7.0->google-auth-oauthlib<1.1,>=0.5->tensorboard<2.14,>=2.13->tensorflow-macos) (3.2.2)\n",
            "Note: you may need to restart the kernel to use updated packages.\n",
            "Requirement already satisfied: pandas in /Users/giovannirivera/Developer/GitHub/Toro-Space/.conda/lib/python3.8/site-packages (2.0.3)\n",
            "Requirement already satisfied: python-dateutil>=2.8.2 in /Users/giovannirivera/Developer/GitHub/Toro-Space/.conda/lib/python3.8/site-packages (from pandas) (2.9.0)\n",
            "Requirement already satisfied: pytz>=2020.1 in /Users/giovannirivera/Developer/GitHub/Toro-Space/.conda/lib/python3.8/site-packages (from pandas) (2024.1)\n",
            "Requirement already satisfied: tzdata>=2022.1 in /Users/giovannirivera/Developer/GitHub/Toro-Space/.conda/lib/python3.8/site-packages (from pandas) (2024.1)\n",
            "Requirement already satisfied: numpy>=1.20.3 in /Users/giovannirivera/Developer/GitHub/Toro-Space/.conda/lib/python3.8/site-packages (from pandas) (1.24.3)\n",
            "Requirement already satisfied: six>=1.5 in /Users/giovannirivera/Developer/GitHub/Toro-Space/.conda/lib/python3.8/site-packages (from python-dateutil>=2.8.2->pandas) (1.16.0)\n",
            "Note: you may need to restart the kernel to use updated packages.\n",
            "Requirement already satisfied: numpy in /Users/giovannirivera/Developer/GitHub/Toro-Space/.conda/lib/python3.8/site-packages (1.24.3)\n",
            "Note: you may need to restart the kernel to use updated packages.\n",
            "Requirement already satisfied: matplotlib in /Users/giovannirivera/Developer/GitHub/Toro-Space/.conda/lib/python3.8/site-packages (3.7.5)\n",
            "Requirement already satisfied: contourpy>=1.0.1 in /Users/giovannirivera/Developer/GitHub/Toro-Space/.conda/lib/python3.8/site-packages (from matplotlib) (1.1.1)\n",
            "Requirement already satisfied: cycler>=0.10 in /Users/giovannirivera/Developer/GitHub/Toro-Space/.conda/lib/python3.8/site-packages (from matplotlib) (0.12.1)\n",
            "Requirement already satisfied: fonttools>=4.22.0 in /Users/giovannirivera/Developer/GitHub/Toro-Space/.conda/lib/python3.8/site-packages (from matplotlib) (4.51.0)\n",
            "Requirement already satisfied: kiwisolver>=1.0.1 in /Users/giovannirivera/Developer/GitHub/Toro-Space/.conda/lib/python3.8/site-packages (from matplotlib) (1.4.5)\n",
            "Requirement already satisfied: numpy<2,>=1.20 in /Users/giovannirivera/Developer/GitHub/Toro-Space/.conda/lib/python3.8/site-packages (from matplotlib) (1.24.3)\n",
            "Requirement already satisfied: packaging>=20.0 in /Users/giovannirivera/Developer/GitHub/Toro-Space/.conda/lib/python3.8/site-packages (from matplotlib) (24.0)\n",
            "Requirement already satisfied: pillow>=6.2.0 in /Users/giovannirivera/Developer/GitHub/Toro-Space/.conda/lib/python3.8/site-packages (from matplotlib) (10.3.0)\n",
            "Requirement already satisfied: pyparsing>=2.3.1 in /Users/giovannirivera/Developer/GitHub/Toro-Space/.conda/lib/python3.8/site-packages (from matplotlib) (3.1.2)\n",
            "Requirement already satisfied: python-dateutil>=2.7 in /Users/giovannirivera/Developer/GitHub/Toro-Space/.conda/lib/python3.8/site-packages (from matplotlib) (2.9.0)\n",
            "Requirement already satisfied: importlib-resources>=3.2.0 in /Users/giovannirivera/Developer/GitHub/Toro-Space/.conda/lib/python3.8/site-packages (from matplotlib) (6.4.0)\n",
            "Requirement already satisfied: zipp>=3.1.0 in /Users/giovannirivera/Developer/GitHub/Toro-Space/.conda/lib/python3.8/site-packages (from importlib-resources>=3.2.0->matplotlib) (3.17.0)\n",
            "Requirement already satisfied: six>=1.5 in /Users/giovannirivera/Developer/GitHub/Toro-Space/.conda/lib/python3.8/site-packages (from python-dateutil>=2.7->matplotlib) (1.16.0)\n",
            "Note: you may need to restart the kernel to use updated packages.\n"
          ]
        }
      ],
      "source": [
        "# %pip install tensorflow\n",
        "%pip install tensorflow-metal\n",
        "%pip install tensorflow-macos\n",
        "%pip install pandas\n",
        "%pip install numpy\n",
        "%pip install matplotlib"
      ]
    },
    {
      "cell_type": "code",
      "execution_count": 2,
      "metadata": {
        "id": "-SmBsy_-G2nm"
      },
      "outputs": [],
      "source": [
        "import tensorflow as tf\n",
        "import pandas as pd\n",
        "import numpy as np"
      ]
    },
    {
      "cell_type": "markdown",
      "metadata": {
        "id": "VVBbKJYEHIsI"
      },
      "source": [
        "## Create RNN"
      ]
    },
    {
      "cell_type": "code",
      "execution_count": 3,
      "metadata": {
        "id": "mauLIEudHIMW"
      },
      "outputs": [],
      "source": [
        "def build_rnn_model(features, max_vocab, max_tokens, embedding_dim):\n",
        "    \"\"\"Builds an RNN model\"\"\"\n",
        "    \n",
        "    # tf.keras.backend.clear_session()\n",
        "    # tf.keras.utils.set_random_seed(0)\n",
        "\n",
        "    # Uses Sequential api with guidance from the tutorial https://www.tensorflow.org/text/tutorials/text_classification_rnn\n",
        "    model = tf.keras.Sequential()\n",
        "    model.add(tf.keras.Input(shape=(3001,), name='Input_Layer'))\n",
        "    model.add(tf.keras.layers.Embedding(\n",
        "        input_dim=max_vocab,\n",
        "        output_dim=embedding_dim,\n",
        "        input_length=max_tokens,\n",
        "        name='Embeddings_Layer',\n",
        "    ))\n",
        "\n",
        "    # bidirectional layers\n",
        "    model.add(tf.keras.layers.Bidirectional(tf.keras.layers.LSTM(64, return_sequences= True), name='Bidirectional_Layer_1'))\n",
        "    model.add(tf.keras.layers.Bidirectional(tf.keras.layers.LSTM(64, return_sequences=True ), name='Bidirectional_Layer_2'))\n",
        "    model.add(tf.keras.layers.Bidirectional(tf.keras.layers.LSTM(64), name='Bidirectional_Layer_3'))\n",
        "\n",
        "    # hidden sigmoid layers\n",
        "    model.add(tf.keras.layers.Dense(128, activation='sigmoid', name='hidden_layer_1'))\n",
        "    model.add(tf.keras.layers.Dense(64, activation='sigmoid', name='hidden_layer_2'))\n",
        "\n",
        "    # output layers\n",
        "    model.add(tf.keras.layers.Dense(\n",
        "        units=1,\n",
        "        activation='sigmoid',\n",
        "        name='Output_Layer',\n",
        "    ))\n",
        "\n",
        "\n",
        "    model.compile(loss='binary_crossentropy', optimizer='adam', metrics=['accuracy'])\n",
        "\n",
        "    return model"
      ]
    },
    {
      "cell_type": "markdown",
      "metadata": {
        "id": "vQLGq-jQH2Gg"
      },
      "source": [
        "## Read and Parse Data for Model"
      ]
    },
    {
      "cell_type": "code",
      "execution_count": 4,
      "metadata": {
        "colab": {
          "base_uri": "https://localhost:8080/",
          "height": 236
        },
        "id": "r3JlMdc7HnGk",
        "outputId": "8e772ba6-6093-4024-cc9b-c9505430790f"
      },
      "outputs": [
        {
          "data": {
            "text/html": [
              "<div>\n",
              "<style scoped>\n",
              "    .dataframe tbody tr th:only-of-type {\n",
              "        vertical-align: middle;\n",
              "    }\n",
              "\n",
              "    .dataframe tbody tr th {\n",
              "        vertical-align: top;\n",
              "    }\n",
              "\n",
              "    .dataframe thead th {\n",
              "        text-align: right;\n",
              "    }\n",
              "</style>\n",
              "<table border=\"1\" class=\"dataframe\">\n",
              "  <thead>\n",
              "    <tr style=\"text-align: right;\">\n",
              "      <th></th>\n",
              "      <th>Email No.</th>\n",
              "      <th>the</th>\n",
              "      <th>to</th>\n",
              "      <th>ect</th>\n",
              "      <th>and</th>\n",
              "      <th>for</th>\n",
              "      <th>of</th>\n",
              "      <th>a</th>\n",
              "      <th>you</th>\n",
              "      <th>hou</th>\n",
              "      <th>...</th>\n",
              "      <th>connevey</th>\n",
              "      <th>jay</th>\n",
              "      <th>valued</th>\n",
              "      <th>lay</th>\n",
              "      <th>infrastructure</th>\n",
              "      <th>military</th>\n",
              "      <th>allowing</th>\n",
              "      <th>ff</th>\n",
              "      <th>dry</th>\n",
              "      <th>Prediction</th>\n",
              "    </tr>\n",
              "  </thead>\n",
              "  <tbody>\n",
              "    <tr>\n",
              "      <th>0</th>\n",
              "      <td>Email 1</td>\n",
              "      <td>0</td>\n",
              "      <td>0</td>\n",
              "      <td>1</td>\n",
              "      <td>0</td>\n",
              "      <td>0</td>\n",
              "      <td>0</td>\n",
              "      <td>2</td>\n",
              "      <td>0</td>\n",
              "      <td>0</td>\n",
              "      <td>...</td>\n",
              "      <td>0</td>\n",
              "      <td>0</td>\n",
              "      <td>0</td>\n",
              "      <td>0</td>\n",
              "      <td>0</td>\n",
              "      <td>0</td>\n",
              "      <td>0</td>\n",
              "      <td>0</td>\n",
              "      <td>0</td>\n",
              "      <td>0</td>\n",
              "    </tr>\n",
              "    <tr>\n",
              "      <th>1</th>\n",
              "      <td>Email 2</td>\n",
              "      <td>8</td>\n",
              "      <td>13</td>\n",
              "      <td>24</td>\n",
              "      <td>6</td>\n",
              "      <td>6</td>\n",
              "      <td>2</td>\n",
              "      <td>102</td>\n",
              "      <td>1</td>\n",
              "      <td>27</td>\n",
              "      <td>...</td>\n",
              "      <td>0</td>\n",
              "      <td>0</td>\n",
              "      <td>0</td>\n",
              "      <td>0</td>\n",
              "      <td>0</td>\n",
              "      <td>0</td>\n",
              "      <td>0</td>\n",
              "      <td>1</td>\n",
              "      <td>0</td>\n",
              "      <td>0</td>\n",
              "    </tr>\n",
              "    <tr>\n",
              "      <th>2</th>\n",
              "      <td>Email 3</td>\n",
              "      <td>0</td>\n",
              "      <td>0</td>\n",
              "      <td>1</td>\n",
              "      <td>0</td>\n",
              "      <td>0</td>\n",
              "      <td>0</td>\n",
              "      <td>8</td>\n",
              "      <td>0</td>\n",
              "      <td>0</td>\n",
              "      <td>...</td>\n",
              "      <td>0</td>\n",
              "      <td>0</td>\n",
              "      <td>0</td>\n",
              "      <td>0</td>\n",
              "      <td>0</td>\n",
              "      <td>0</td>\n",
              "      <td>0</td>\n",
              "      <td>0</td>\n",
              "      <td>0</td>\n",
              "      <td>0</td>\n",
              "    </tr>\n",
              "    <tr>\n",
              "      <th>3</th>\n",
              "      <td>Email 4</td>\n",
              "      <td>0</td>\n",
              "      <td>5</td>\n",
              "      <td>22</td>\n",
              "      <td>0</td>\n",
              "      <td>5</td>\n",
              "      <td>1</td>\n",
              "      <td>51</td>\n",
              "      <td>2</td>\n",
              "      <td>10</td>\n",
              "      <td>...</td>\n",
              "      <td>0</td>\n",
              "      <td>0</td>\n",
              "      <td>0</td>\n",
              "      <td>0</td>\n",
              "      <td>0</td>\n",
              "      <td>0</td>\n",
              "      <td>0</td>\n",
              "      <td>0</td>\n",
              "      <td>0</td>\n",
              "      <td>0</td>\n",
              "    </tr>\n",
              "    <tr>\n",
              "      <th>4</th>\n",
              "      <td>Email 5</td>\n",
              "      <td>7</td>\n",
              "      <td>6</td>\n",
              "      <td>17</td>\n",
              "      <td>1</td>\n",
              "      <td>5</td>\n",
              "      <td>2</td>\n",
              "      <td>57</td>\n",
              "      <td>0</td>\n",
              "      <td>9</td>\n",
              "      <td>...</td>\n",
              "      <td>0</td>\n",
              "      <td>0</td>\n",
              "      <td>0</td>\n",
              "      <td>0</td>\n",
              "      <td>0</td>\n",
              "      <td>0</td>\n",
              "      <td>0</td>\n",
              "      <td>1</td>\n",
              "      <td>0</td>\n",
              "      <td>0</td>\n",
              "    </tr>\n",
              "  </tbody>\n",
              "</table>\n",
              "<p>5 rows × 3002 columns</p>\n",
              "</div>"
            ],
            "text/plain": [
              "  Email No.  the  to  ect  and  for  of    a  you  hou  ...  connevey  jay  \\\n",
              "0   Email 1    0   0    1    0    0   0    2    0    0  ...         0    0   \n",
              "1   Email 2    8  13   24    6    6   2  102    1   27  ...         0    0   \n",
              "2   Email 3    0   0    1    0    0   0    8    0    0  ...         0    0   \n",
              "3   Email 4    0   5   22    0    5   1   51    2   10  ...         0    0   \n",
              "4   Email 5    7   6   17    1    5   2   57    0    9  ...         0    0   \n",
              "\n",
              "   valued  lay  infrastructure  military  allowing  ff  dry  Prediction  \n",
              "0       0    0               0         0         0   0    0           0  \n",
              "1       0    0               0         0         0   1    0           0  \n",
              "2       0    0               0         0         0   0    0           0  \n",
              "3       0    0               0         0         0   0    0           0  \n",
              "4       0    0               0         0         0   1    0           0  \n",
              "\n",
              "[5 rows x 3002 columns]"
            ]
          },
          "metadata": {},
          "output_type": "display_data"
        }
      ],
      "source": [
        "emails_df = pd.read_csv('emails.csv')\n",
        "emails_df.reindex(np.random.permutation(len(emails_df)))\n",
        "display(emails_df.head())"
      ]
    },
    {
      "cell_type": "code",
      "execution_count": 5,
      "metadata": {
        "colab": {
          "base_uri": "https://localhost:8080/"
        },
        "id": "5o3aSBjDHsW5",
        "outputId": "65a16341-6eb4-4249-cf54-18720a18c05e"
      },
      "outputs": [
        {
          "name": "stdout",
          "output_type": "stream",
          "text": [
            "3001 words in the bags of words\n"
          ]
        }
      ],
      "source": [
        "email_words = list(emails_df.columns)[1:-1] + ['#OOV#']\n",
        "print(f'{len(email_words)} words in the bags of words')\n",
        "# display(email_words)"
      ]
    },
    {
      "cell_type": "code",
      "execution_count": 6,
      "metadata": {
        "id": "pTqNs5AdKk3R"
      },
      "outputs": [],
      "source": [
        "reverse_email_words = {}\n",
        "for index, word in enumerate(email_words):\n",
        "    reverse_email_words[word] = index"
      ]
    },
    {
      "cell_type": "code",
      "execution_count": 7,
      "metadata": {
        "id": "QXHfLFcoK2WC"
      },
      "outputs": [],
      "source": [
        "from collections import defaultdict\n",
        "\n",
        "def prompt_to_np(prompt, debug=False):\n",
        "    word_tracker = defaultdict(int)\n",
        "    for word in prompt.split(' '):\n",
        "        if word in reverse_email_words:\n",
        "            word_tracker[word] += 1\n",
        "        else:\n",
        "            word_tracker['#OOV#'] += 1\n",
        "\n",
        "    if debug:\n",
        "        display(word_tracker)\n",
        "\n",
        "    res = np.zeros((len(email_words)),)\n",
        "\n",
        "    for word, count in word_tracker.items():\n",
        "        res[reverse_email_words[word]] = count\n",
        "    return res"
      ]
    },
    {
      "cell_type": "code",
      "execution_count": 8,
      "metadata": {
        "colab": {
          "base_uri": "https://localhost:8080/",
          "height": 54
        },
        "id": "uMemUq5gH8YM",
        "outputId": "605bfa79-2e85-4141-f1e1-7fd41a672ac7"
      },
      "outputs": [
        {
          "data": {
            "text/plain": [
              "defaultdict(int, {'#OOV#': 4, 'your': 1, 'free': 1, 'at': 1, 'this': 1})"
            ]
          },
          "metadata": {},
          "output_type": "display_data"
        },
        {
          "data": {
            "text/plain": [
              "array([0., 0., 0., ..., 0., 0., 4.])"
            ]
          },
          "execution_count": 8,
          "metadata": {},
          "output_type": "execute_result"
        }
      ],
      "source": [
        "example_prompt = 'Get your free **vbucks** at this link: https://fake.test/'\n",
        "prompt_to_np(example_prompt, debug=True)\n"
      ]
    },
    {
      "cell_type": "code",
      "execution_count": 9,
      "metadata": {
        "id": "gmfL5_IIKFBk"
      },
      "outputs": [],
      "source": [
        "def process_df(df, debug=False):\n",
        "    words_df = df.loc[:,email_words[:-1]]\n",
        "    words_df.loc[:,'#OOV#'] = 0\n",
        "    if debug:\n",
        "        display(words_df.head())\n",
        "    return words_df.to_numpy()"
      ]
    },
    {
      "cell_type": "code",
      "execution_count": 10,
      "metadata": {
        "colab": {
          "base_uri": "https://localhost:8080/",
          "height": 311
        },
        "id": "D6sUX4VCh2_-",
        "outputId": "12ce3f60-116a-4dc7-c8df-bdefd286117e"
      },
      "outputs": [
        {
          "data": {
            "text/plain": [
              "array([[ 0,  0,  1, ...,  0,  0,  0],\n",
              "       [ 8, 13, 24, ...,  1,  0,  0],\n",
              "       [ 0,  0,  1, ...,  0,  0,  0],\n",
              "       ...,\n",
              "       [ 0,  0,  1, ...,  0,  0,  0],\n",
              "       [ 2,  7,  1, ...,  1,  0,  0],\n",
              "       [22, 24,  5, ...,  0,  0,  0]])"
            ]
          },
          "metadata": {},
          "output_type": "display_data"
        },
        {
          "data": {
            "text/plain": [
              "(5172, 3001)"
            ]
          },
          "metadata": {},
          "output_type": "display_data"
        },
        {
          "data": {
            "text/plain": [
              "array([[0],\n",
              "       [0],\n",
              "       [0],\n",
              "       ...,\n",
              "       [1],\n",
              "       [1],\n",
              "       [0]])"
            ]
          },
          "metadata": {},
          "output_type": "display_data"
        },
        {
          "data": {
            "text/plain": [
              "(5172, 1)"
            ]
          },
          "metadata": {},
          "output_type": "display_data"
        }
      ],
      "source": [
        "emails_np = process_df(emails_df)\n",
        "actual_np = emails_df[['Prediction']].to_numpy()\n",
        "display(emails_np)\n",
        "display(emails_np.shape)\n",
        "display(actual_np)\n",
        "display(actual_np.shape)"
      ]
    },
    {
      "cell_type": "code",
      "execution_count": 11,
      "metadata": {
        "id": "EpcyXO3Uh9H4"
      },
      "outputs": [
        {
          "name": "stderr",
          "output_type": "stream",
          "text": [
            "2024-05-06 21:29:15.237999: I metal_plugin/src/device/metal_device.cc:1154] Metal device set to: Apple M2 Max\n",
            "2024-05-06 21:29:15.238015: I metal_plugin/src/device/metal_device.cc:296] systemMemory: 32.00 GB\n",
            "2024-05-06 21:29:15.238021: I metal_plugin/src/device/metal_device.cc:313] maxCacheSize: 10.67 GB\n",
            "2024-05-06 21:29:15.238046: I tensorflow/core/common_runtime/pluggable_device/pluggable_device_factory.cc:303] Could not identify NUMA node of platform GPU ID 0, defaulting to 0. Your kernel may not have been built with NUMA support.\n",
            "2024-05-06 21:29:15.238060: I tensorflow/core/common_runtime/pluggable_device/pluggable_device_factory.cc:269] Created TensorFlow device (/job:localhost/replica:0/task:0/device:GPU:0 with 0 MB memory) -> physical PluggableDevice (device: 0, name: METAL, pci bus id: <undefined>)\n"
          ]
        }
      ],
      "source": [
        "model = build_rnn_model(emails_np, 3001, 100, 9)"
      ]
    },
    {
      "cell_type": "code",
      "execution_count": 12,
      "metadata": {
        "colab": {
          "base_uri": "https://localhost:8080/"
        },
        "id": "OPtKbXahkz7i",
        "outputId": "223bfe03-662d-49db-f6d9-5230f2117a38"
      },
      "outputs": [
        {
          "name": "stdout",
          "output_type": "stream",
          "text": [
            "Epoch 1/32\n"
          ]
        },
        {
          "name": "stderr",
          "output_type": "stream",
          "text": [
            "2024-05-06 21:29:17.841317: I tensorflow/core/grappler/optimizers/custom_graph_optimizer_registry.cc:114] Plugin optimizer for device_type GPU is enabled.\n",
            "2024-05-06 21:29:18.369344: I tensorflow/core/grappler/optimizers/custom_graph_optimizer_registry.cc:114] Plugin optimizer for device_type GPU is enabled.\n",
            "2024-05-06 21:29:18.386029: I tensorflow/core/grappler/optimizers/custom_graph_optimizer_registry.cc:114] Plugin optimizer for device_type GPU is enabled.\n",
            "2024-05-06 21:29:18.577577: I tensorflow/core/grappler/optimizers/custom_graph_optimizer_registry.cc:114] Plugin optimizer for device_type GPU is enabled.\n",
            "2024-05-06 21:29:18.596411: I tensorflow/core/grappler/optimizers/custom_graph_optimizer_registry.cc:114] Plugin optimizer for device_type GPU is enabled.\n",
            "2024-05-06 21:29:18.783469: I tensorflow/core/grappler/optimizers/custom_graph_optimizer_registry.cc:114] Plugin optimizer for device_type GPU is enabled.\n",
            "2024-05-06 21:29:18.798974: I tensorflow/core/grappler/optimizers/custom_graph_optimizer_registry.cc:114] Plugin optimizer for device_type GPU is enabled.\n",
            "2024-05-06 21:29:19.066654: I tensorflow/core/grappler/optimizers/custom_graph_optimizer_registry.cc:114] Plugin optimizer for device_type GPU is enabled.\n",
            "2024-05-06 21:29:19.088229: I tensorflow/core/grappler/optimizers/custom_graph_optimizer_registry.cc:114] Plugin optimizer for device_type GPU is enabled.\n",
            "2024-05-06 21:29:19.342429: I tensorflow/core/grappler/optimizers/custom_graph_optimizer_registry.cc:114] Plugin optimizer for device_type GPU is enabled.\n",
            "2024-05-06 21:29:19.368229: I tensorflow/core/grappler/optimizers/custom_graph_optimizer_registry.cc:114] Plugin optimizer for device_type GPU is enabled.\n",
            "2024-05-06 21:29:19.609603: I tensorflow/core/grappler/optimizers/custom_graph_optimizer_registry.cc:114] Plugin optimizer for device_type GPU is enabled.\n",
            "2024-05-06 21:29:19.634840: I tensorflow/core/grappler/optimizers/custom_graph_optimizer_registry.cc:114] Plugin optimizer for device_type GPU is enabled.\n"
          ]
        },
        {
          "name": "stdout",
          "output_type": "stream",
          "text": [
            "57/57 [==============================] - ETA: 0s - loss: 0.6043 - accuracy: 0.7028"
          ]
        },
        {
          "name": "stderr",
          "output_type": "stream",
          "text": [
            "2024-05-06 21:30:16.043688: I tensorflow/core/grappler/optimizers/custom_graph_optimizer_registry.cc:114] Plugin optimizer for device_type GPU is enabled.\n",
            "2024-05-06 21:30:16.228767: I tensorflow/core/grappler/optimizers/custom_graph_optimizer_registry.cc:114] Plugin optimizer for device_type GPU is enabled.\n",
            "2024-05-06 21:30:16.239672: I tensorflow/core/grappler/optimizers/custom_graph_optimizer_registry.cc:114] Plugin optimizer for device_type GPU is enabled.\n",
            "2024-05-06 21:30:16.405241: I tensorflow/core/grappler/optimizers/custom_graph_optimizer_registry.cc:114] Plugin optimizer for device_type GPU is enabled.\n",
            "2024-05-06 21:30:16.417850: I tensorflow/core/grappler/optimizers/custom_graph_optimizer_registry.cc:114] Plugin optimizer for device_type GPU is enabled.\n",
            "2024-05-06 21:30:16.569151: I tensorflow/core/grappler/optimizers/custom_graph_optimizer_registry.cc:114] Plugin optimizer for device_type GPU is enabled.\n",
            "2024-05-06 21:30:16.580576: I tensorflow/core/grappler/optimizers/custom_graph_optimizer_registry.cc:114] Plugin optimizer for device_type GPU is enabled.\n"
          ]
        },
        {
          "name": "stdout",
          "output_type": "stream",
          "text": [
            "57/57 [==============================] - 67s 1s/step - loss: 0.6043 - accuracy: 0.7028 - val_loss: 0.6256 - val_accuracy: 0.6946\n",
            "Epoch 2/32\n",
            "57/57 [==============================] - 63s 1s/step - loss: 0.5981 - accuracy: 0.7166 - val_loss: 0.6154 - val_accuracy: 0.6946\n",
            "Epoch 3/32\n",
            "57/57 [==============================] - 63s 1s/step - loss: 0.5954 - accuracy: 0.7166 - val_loss: 0.6283 - val_accuracy: 0.6946\n",
            "Epoch 4/32\n",
            "57/57 [==============================] - 63s 1s/step - loss: 0.5908 - accuracy: 0.7166 - val_loss: 0.6164 - val_accuracy: 0.6946\n",
            "Epoch 5/32\n",
            "57/57 [==============================] - 63s 1s/step - loss: 0.5957 - accuracy: 0.7166 - val_loss: 0.6126 - val_accuracy: 0.6946\n",
            "Epoch 6/32\n",
            "57/57 [==============================] - 63s 1s/step - loss: 0.5691 - accuracy: 0.7174 - val_loss: 0.6288 - val_accuracy: 0.6946\n",
            "Epoch 7/32\n",
            "57/57 [==============================] - 63s 1s/step - loss: 0.5674 - accuracy: 0.7166 - val_loss: 0.6064 - val_accuracy: 0.6946\n",
            "Epoch 8/32\n",
            "57/57 [==============================] - 63s 1s/step - loss: 0.5279 - accuracy: 0.7160 - val_loss: 0.6110 - val_accuracy: 0.6946\n",
            "Epoch 9/32\n",
            "57/57 [==============================] - 63s 1s/step - loss: 0.5063 - accuracy: 0.7298 - val_loss: 0.6091 - val_accuracy: 0.7113\n",
            "Epoch 10/32\n",
            "57/57 [==============================] - 63s 1s/step - loss: 0.4950 - accuracy: 0.7522 - val_loss: 0.5614 - val_accuracy: 0.7223\n",
            "Epoch 11/32\n",
            "57/57 [==============================] - 63s 1s/step - loss: 0.4641 - accuracy: 0.7771 - val_loss: 0.6147 - val_accuracy: 0.7139\n",
            "Epoch 12/32\n",
            "57/57 [==============================] - 63s 1s/step - loss: 0.4447 - accuracy: 0.7912 - val_loss: 0.5502 - val_accuracy: 0.7210\n",
            "Epoch 13/32\n",
            "57/57 [==============================] - 63s 1s/step - loss: 0.4392 - accuracy: 0.7920 - val_loss: 0.5673 - val_accuracy: 0.7274\n",
            "Epoch 14/32\n",
            "57/57 [==============================] - 63s 1s/step - loss: 0.4297 - accuracy: 0.7959 - val_loss: 0.5911 - val_accuracy: 0.7068\n",
            "Epoch 15/32\n",
            "57/57 [==============================] - 63s 1s/step - loss: 0.4063 - accuracy: 0.8144 - val_loss: 0.6017 - val_accuracy: 0.7365\n",
            "Epoch 16/32\n",
            "57/57 [==============================] - 63s 1s/step - loss: 0.4212 - accuracy: 0.8022 - val_loss: 0.5979 - val_accuracy: 0.7204\n",
            "Epoch 17/32\n",
            "57/57 [==============================] - 63s 1s/step - loss: 0.4014 - accuracy: 0.8144 - val_loss: 0.5745 - val_accuracy: 0.7403\n",
            "Epoch 18/32\n",
            "57/57 [==============================] - 63s 1s/step - loss: 0.3880 - accuracy: 0.8227 - val_loss: 0.5915 - val_accuracy: 0.7320\n",
            "Epoch 19/32\n",
            "57/57 [==============================] - 63s 1s/step - loss: 0.3788 - accuracy: 0.8207 - val_loss: 0.6040 - val_accuracy: 0.7307\n",
            "Epoch 20/32\n",
            "57/57 [==============================] - 63s 1s/step - loss: 0.3811 - accuracy: 0.8262 - val_loss: 0.6803 - val_accuracy: 0.6785\n",
            "Epoch 21/32\n",
            "57/57 [==============================] - 63s 1s/step - loss: 0.3861 - accuracy: 0.8207 - val_loss: 0.5954 - val_accuracy: 0.7436\n",
            "Epoch 22/32\n",
            "57/57 [==============================] - 63s 1s/step - loss: 0.3648 - accuracy: 0.8343 - val_loss: 0.5859 - val_accuracy: 0.7397\n",
            "Epoch 23/32\n",
            "57/57 [==============================] - 63s 1s/step - loss: 0.3682 - accuracy: 0.8279 - val_loss: 0.5835 - val_accuracy: 0.7468\n",
            "Epoch 24/32\n",
            "57/57 [==============================] - 63s 1s/step - loss: 0.3694 - accuracy: 0.8282 - val_loss: 0.5934 - val_accuracy: 0.7184\n",
            "Epoch 25/32\n",
            "57/57 [==============================] - 63s 1s/step - loss: 0.3761 - accuracy: 0.8296 - val_loss: 0.5877 - val_accuracy: 0.7326\n",
            "Epoch 26/32\n",
            "57/57 [==============================] - 64s 1s/step - loss: 0.3425 - accuracy: 0.8486 - val_loss: 0.6345 - val_accuracy: 0.7442\n",
            "Epoch 27/32\n",
            "57/57 [==============================] - 63s 1s/step - loss: 0.3407 - accuracy: 0.8470 - val_loss: 0.6465 - val_accuracy: 0.7455\n",
            "Epoch 28/32\n",
            "57/57 [==============================] - 63s 1s/step - loss: 0.3216 - accuracy: 0.8539 - val_loss: 0.6492 - val_accuracy: 0.7526\n",
            "Epoch 29/32\n",
            "57/57 [==============================] - 63s 1s/step - loss: 0.3142 - accuracy: 0.8599 - val_loss: 0.6183 - val_accuracy: 0.7635\n",
            "Epoch 30/32\n",
            "57/57 [==============================] - 63s 1s/step - loss: 0.3209 - accuracy: 0.8564 - val_loss: 0.6163 - val_accuracy: 0.7539\n",
            "Epoch 31/32\n",
            "57/57 [==============================] - 63s 1s/step - loss: 0.2942 - accuracy: 0.8696 - val_loss: 0.6287 - val_accuracy: 0.7468\n",
            "Epoch 32/32\n",
            "57/57 [==============================] - 63s 1s/step - loss: 0.2944 - accuracy: 0.8677 - val_loss: 0.6816 - val_accuracy: 0.7423\n"
          ]
        }
      ],
      "source": [
        "# num_of_epochs=16\n",
        "num_of_epochs=32\n",
        "num_per_batch=64\n",
        "validation=0.3\n",
        "history = model.fit(\n",
        "        emails_np,\n",
        "        actual_np,\n",
        "        epochs=num_of_epochs,\n",
        "        batch_size=num_per_batch,\n",
        "        validation_split=validation,\n",
        "        verbose=1,\n",
        ")"
      ]
    },
    {
      "cell_type": "code",
      "execution_count": 13,
      "metadata": {
        "id": "MpPu0GqSu7XT"
      },
      "outputs": [],
      "source": [
        "def predict_prompt(model, prompt, debug=False):\n",
        "    prompt_np = prompt_to_np(prompt, debug=debug)\n",
        "    prompt_np = prompt_np.reshape((1, -1))\n",
        "\n",
        "    if debug:\n",
        "        display(prompt_np)\n",
        "    prediction = model.predict(prompt_np)\n",
        "    # prediction = prediction.flatten()\n",
        "    return prediction\n"
      ]
    },
    {
      "cell_type": "code",
      "execution_count": 14,
      "metadata": {
        "id": "wsOgN5NyllTK"
      },
      "outputs": [
        {
          "name": "stderr",
          "output_type": "stream",
          "text": [
            "2024-05-06 22:03:04.361335: I tensorflow/core/grappler/optimizers/custom_graph_optimizer_registry.cc:114] Plugin optimizer for device_type GPU is enabled.\n",
            "2024-05-06 22:03:04.632548: I tensorflow/core/grappler/optimizers/custom_graph_optimizer_registry.cc:114] Plugin optimizer for device_type GPU is enabled.\n",
            "2024-05-06 22:03:04.643254: I tensorflow/core/grappler/optimizers/custom_graph_optimizer_registry.cc:114] Plugin optimizer for device_type GPU is enabled.\n",
            "2024-05-06 22:03:05.486003: I tensorflow/core/grappler/optimizers/custom_graph_optimizer_registry.cc:114] Plugin optimizer for device_type GPU is enabled.\n",
            "2024-05-06 22:03:05.496710: I tensorflow/core/grappler/optimizers/custom_graph_optimizer_registry.cc:114] Plugin optimizer for device_type GPU is enabled.\n",
            "2024-05-06 22:03:05.707158: I tensorflow/core/grappler/optimizers/custom_graph_optimizer_registry.cc:114] Plugin optimizer for device_type GPU is enabled.\n",
            "2024-05-06 22:03:05.718322: I tensorflow/core/grappler/optimizers/custom_graph_optimizer_registry.cc:114] Plugin optimizer for device_type GPU is enabled.\n"
          ]
        },
        {
          "name": "stdout",
          "output_type": "stream",
          "text": [
            "1/1 [==============================] - 3s 3s/step\n"
          ]
        },
        {
          "data": {
            "text/plain": [
              "array([[0.5596379]], dtype=float32)"
            ]
          },
          "execution_count": 14,
          "metadata": {},
          "output_type": "execute_result"
        }
      ],
      "source": [
        "predict_prompt(model, \"\"\"Dear Employee,\n",
        "I wanted to let you know that you did a great job!\n",
        "\n",
        "You are a winner for $5000 and a vacation!\n",
        "\n",
        "Click on this important link to confirm, or else you will lose this opportunity.\n",
        "\n",
        "Best regards,\n",
        "Boss\n",
        "\"\"\")"
      ]
    },
    {
      "cell_type": "code",
      "execution_count": 15,
      "metadata": {
        "id": "oGBgTLvH17-h"
      },
      "outputs": [
        {
          "name": "stdout",
          "output_type": "stream",
          "text": [
            "1/1 [==============================] - 0s 216ms/step\n"
          ]
        },
        {
          "data": {
            "text/plain": [
              "array([[0.90219563]], dtype=float32)"
            ]
          },
          "execution_count": 15,
          "metadata": {},
          "output_type": "execute_result"
        }
      ],
      "source": [
        "predict_prompt(model, \"\"\"Free Vbucks, click now: https://mylink.test/vbucks\n",
        "\"\"\")"
      ]
    },
    {
      "cell_type": "code",
      "execution_count": 16,
      "metadata": {
        "id": "N9c5ypsXraXe"
      },
      "outputs": [],
      "source": [
        "import matplotlib.pyplot as plt\n",
        "\n",
        "def plot_history(history, epochs):\n",
        "    history = pd.DataFrame(history)\n",
        "\n",
        "    plt.xlabel('Epochs')\n",
        "    plt.ylabel('Loss')\n",
        "    plt.title('Loss vs Epoch')\n",
        "\n",
        "    plt.plot(list(range(1, epochs + 1)), history['loss'], label=\"Train\")\n",
        "    plt.plot(list(range(1, epochs + 1)), history['val_loss'], label=\"Validation\")\n",
        "\n",
        "    plt.legend(loc='best')\n",
        "    plt.show()\n",
        "\n",
        "    print('Loss:', history['loss'].iloc[-1])\n",
        "    print('Val Loss:', history['val_loss'].iloc[-1])\n",
        "\n",
        "    plt.xlabel('Epochs')\n",
        "    plt.ylabel('Accuracy (in %)')\n",
        "    plt.title('Accuracy vs Epoch')\n",
        "\n",
        "    plt.plot(list(range(1, epochs + 1)), history['accuracy'] * 100, label=\"Train\")\n",
        "    plt.plot(list(range(1, epochs + 1)), history['val_accuracy'] * 100, label=\"Validation\")\n",
        "\n",
        "    plt.legend(loc='best')\n",
        "    plt.show()\n",
        "\n",
        "    print('Accuracy:', history['accuracy'].iloc[-1])\n",
        "    print('Val Accuracy:', history['val_accuracy'].iloc[-1])\n",
        "\n"
      ]
    },
    {
      "cell_type": "code",
      "execution_count": 17,
      "metadata": {
        "id": "13kPFeD78jj_"
      },
      "outputs": [
        {
          "data": {
            "image/png": "[encoded data removed]",
            "text/plain": [
              "<Figure size 640x480 with 1 Axes>"
            ]
          },
          "metadata": {},
          "output_type": "display_data"
        },
        {
          "name": "stdout",
          "output_type": "stream",
          "text": [
            "Loss: 0.2944158613681793\n",
            "Val Loss: 0.6815958023071289\n"
          ]
        },
        {
          "data": {
            "image/png": "[encoded data removed]",
            "text/plain": [
              "<Figure size 640x480 with 1 Axes>"
            ]
          },
          "metadata": {},
          "output_type": "display_data"
        },
        {
          "name": "stdout",
          "output_type": "stream",
          "text": [
            "Accuracy: 0.8676795363426208\n",
            "Val Accuracy: 0.7422680258750916\n"
          ]
        }
      ],
      "source": [
        "plot_history(history.history, num_of_epochs)"
      ]
    },
    {
      "cell_type": "code",
      "execution_count": 18,
      "metadata": {
        "id": "ArN-CpU9rG8u"
      },
      "outputs": [
        {
          "name": "stdout",
          "output_type": "stream",
          "text": [
            "INFO:tensorflow:Assets written to: spam_detector_model/assets\n"
          ]
        },
        {
          "name": "stderr",
          "output_type": "stream",
          "text": [
            "INFO:tensorflow:Assets written to: spam_detector_model/assets\n"
          ]
        }
      ],
      "source": [
        "model.save('spam_detector_model')"
      ]
    },
    {
      "cell_type": "code",
      "execution_count": null,
      "metadata": {
        "id": "OTRD1bds8nCS"
      },
      "outputs": [],
      "source": []
    }
  ],
  "metadata": {
    "accelerator": "GPU",
    "colab": {
      "gpuType": "T4",
      "provenance": []
    },
    "kernelspec": {
      "display_name": "Python 3",
      "name": "python3"
    },
    "language_info": {
      "codemirror_mode": {
        "name": "ipython",
        "version": 3
      },
      "file_extension": ".py",
      "mimetype": "text/x-python",
      "name": "python",
      "nbconvert_exporter": "python",
      "pygments_lexer": "ipython3",
      "version": "3.8.19"
    }
  },
  "nbformat": 4,
  "nbformat_minor": 0
}
